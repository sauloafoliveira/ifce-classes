{
  "nbformat": 4,
  "nbformat_minor": 0,
  "metadata": {
    "colab": {
      "name": "Aula 01 - Fundamentos",
      "provenance": [],
      "collapsed_sections": [],
      "authorship_tag": "ABX9TyP0e4AwqrG7TEhJ2sSQw4pk",
      "include_colab_link": true
    },
    "kernelspec": {
      "name": "python3",
      "display_name": "Python 3"
    }
  },
  "cells": [
    {
      "cell_type": "markdown",
      "metadata": {
        "id": "view-in-github",
        "colab_type": "text"
      },
      "source": [
        "<a href=\"https://colab.research.google.com/github/sauloafoliveira/ifce-classes/blob/master/pdi/Aula_01_Fundamentos.ipynb\" target=\"_parent\"><img src=\"https://colab.research.google.com/assets/colab-badge.svg\" alt=\"Open In Colab\"/></a>"
      ]
    },
    {
      "cell_type": "markdown",
      "metadata": {
        "id": "5DUnhkilu8Ce",
        "colab_type": "text"
      },
      "source": [
        "# Introdução\n",
        "\n",
        "Olá pessoal, inicialmente vamos abordar os conceitos vistos na aula passada, soobre fundamentos de imagens digitais.\n",
        "\n",
        "\n",
        "Eu vou apresentar para vocês a primeira biblioteca de manipulação de imagens em Python. A gente vai começar com ela para ver algumas funcionalidades.\n",
        "\n",
        "A biblioteca em questão é a [**OpenCV**](https://opencv.org). Utilizaremos a **segunda** versão da mesma. OpenCV vem de biblioteca de visão computacional de código aberto.\n",
        "\n",
        "\n",
        "Para utilizar ela no código-fonte em Python, importamos-a através da seguinte linha de comando."
      ]
    },
    {
      "cell_type": "code",
      "metadata": {
        "id": "V8BTUTDBwgiM",
        "colab_type": "code",
        "colab": {}
      },
      "source": [
        "import cv2"
      ],
      "execution_count": null,
      "outputs": []
    },
    {
      "cell_type": "markdown",
      "metadata": {
        "id": "7APQX8zSwzbW",
        "colab_type": "text"
      },
      "source": [
        "Para a gente importar imagens da internet (mais fácil) para abrirmos no Colab, basta usarmos uma diretiva de download chamda wget. Ela fará o download de forma temporária e ao final da execução do colab como um todo, os arquivos baixados são excluídos. Existe uma versão mais elaborada usando o Drive do Google para acessarmos mais funcionalidades, mas por hora vamos nesse exemplo mais direto."
      ]
    },
    {
      "cell_type": "code",
      "metadata": {
        "id": "fFytbxgexZNy",
        "colab_type": "code",
        "colab": {}
      },
      "source": [
        "!wget \"https://www.ic.unicamp.br/~ffaria/pi1s2018/examples/figs/lena.pgm\" -O lena.pgm"
      ],
      "execution_count": null,
      "outputs": []
    },
    {
      "cell_type": "markdown",
      "metadata": {
        "id": "R5FLDh9qxXtI",
        "colab_type": "text"
      },
      "source": [
        "Ao executar a célula acima, uma mensagem parecida com a seguinte, mostrará que o download foi realizado com sucesso.\n",
        "\n",
        "```\n",
        "--2020-08-16 19:40:05--  https://www.ic.unicamp.br/~ffaria/pi1s2018/examples/figs/lena.pgm\n",
        "Resolving www.ic.unicamp.br (www.ic.unicamp.br)... 143.106.7.54, 2801:8a:40c0:cafe::54\n",
        "Connecting to www.ic.unicamp.br (www.ic.unicamp.br)|143.106.7.54|:443... connected.\n",
        "HTTP request sent, awaiting response... 200 OK\n",
        "Length: 262159 (256K) [image/x-portable-graymap]\n",
        "Saving to: ‘lena.pgm’\n",
        "\n",
        "lena.pgm            100%[===================>] 256.01K   368KB/s    in 0.7s    \n",
        "\n",
        "2020-08-16 19:40:06 (368 KB/s) - ‘lena.pgm’ saved [262159/262159]\n",
        "\n",
        "```\n",
        "\n",
        "A partir de agora podemos realizar operações com este arquivo de imagem."
      ]
    },
    {
      "cell_type": "code",
      "metadata": {
        "id": "FDK_-2I8xYSE",
        "colab_type": "code",
        "colab": {}
      },
      "source": [
        "!wget \"https://www.ic.unicamp.br/~ffaria/pi1s2018/examples/figs/lena.pgm\" -O lena.pgm\n",
        "\n",
        "import cv2\n",
        "from google.colab.patches import cv2_imshow\n",
        "\n",
        "img = cv2.imread('lena.pgm', cv2.IMREAD_GRAYSCALE)\n",
        "\n",
        "cv2_imshow(img)"
      ],
      "execution_count": null,
      "outputs": []
    },
    {
      "cell_type": "markdown",
      "metadata": {
        "id": "0AGsIa7Qy1OB",
        "colab_type": "text"
      },
      "source": [
        "As instruções \n",
        "\n",
        "```\n",
        "import cv2\n",
        "from google.colab.patches import cv2_imshow\n",
        "```\n",
        "funcionam para carregamos os módulos de processamento de imagem do opencv2 e um extra, o cv2_imshow, que não funciona no desktop, só neste ambiente do Google Colab, para mostrar as imagens.\n"
      ]
    },
    {
      "cell_type": "markdown",
      "metadata": {
        "id": "_uS4a-L-_nfx",
        "colab_type": "text"
      },
      "source": [
        "# Resolução espacial\n",
        "\n",
        "Como vimos na aula, a resolução espacial é determinada pelo número de pixels por área da imagem, ou seja, pela dimensão do pixel na imagem.\n",
        "\n",
        "Para recuperarmos o tamanho de uma imagem, basta acessarmos o campo *shape* do objeto imagem. \n",
        "\n",
        "```\n",
        "largura, altura = img.shape\n",
        "```\n",
        "Além das dimensões, o mesmo campo recupera a quantidade de canais da imagem (quando houver). Execute a célula abaixo e veja o resultado.\n",
        "\n"
      ]
    },
    {
      "cell_type": "code",
      "metadata": {
        "id": "TRo9-6r6Ahs9",
        "colab_type": "code",
        "colab": {}
      },
      "source": [
        "largura, altura = img.shape\n",
        "print('A imagem possui dimensões {} x {}'.format(largura, altura))"
      ],
      "execution_count": null,
      "outputs": []
    },
    {
      "cell_type": "markdown",
      "metadata": {
        "id": "pS2I-Rx0BX1h",
        "colab_type": "text"
      },
      "source": [
        "Vamos emular o conceito de resolução espacial através da função _cv2.resize_. O intuito aqui é demonstrar o impacto da quantidade de pixels na resolução  final da imagem. "
      ]
    },
    {
      "cell_type": "code",
      "metadata": {
        "id": "mHZKjurbAtAj",
        "colab_type": "code",
        "colab": {}
      },
      "source": [
        "\n",
        "# mostrando a imagem original\n",
        "cv2_imshow(img)\n",
        "\n",
        "# executando o redimensionamento. O primeiro parametro é a imagem e o segundo é o novo tamanho.\n",
        "img_redimensionada = cv2.resize(img, (256, 256))\n",
        "\n",
        "# mostrando a imagem redimensionada\n",
        "cv2_imshow(img_redimensionada)"
      ],
      "execution_count": null,
      "outputs": []
    },
    {
      "cell_type": "code",
      "metadata": {
        "id": "PWA7HSBPCDpQ",
        "colab_type": "code",
        "colab": {}
      },
      "source": [
        "\n",
        "# mostrando a imagem original\n",
        "cv2_imshow(img)\n",
        "\n",
        "# executando o redimensionamento. O primeiro parametro é a imagem e o segundo é o novo tamanho.\n",
        "img_redimensionada = cv2.resize(img, (256, 256))\n",
        "img_redimensionada = cv2.resize(img_redimensionada, (512, 512))\n",
        "\n",
        "# mostrando a imagem redimensionada\n",
        "cv2_imshow(img_redimensionada)"
      ],
      "execution_count": null,
      "outputs": []
    },
    {
      "cell_type": "markdown",
      "metadata": {
        "id": "TMnd6haZC6C2",
        "colab_type": "text"
      },
      "source": [
        "Eu criei uma função para ajudar a gente a perceber essa questão da resolução espacial. A função tem o nome de _spacialreso_ e necessita de dois argumentos, uma imagem e um tamanho de redimensionamento. A função aplica o redimensiomento para o tamanho menor e depois volta para o tamanho original. No entanto, ao se visualizar ambas imagens, nota-se a diferença na resolução.\n",
        "\n",
        "Na célula que segue, complete o código para vermos as imagens até 32 x 32, dividindo os tamanhos pela metade, e visualizarmos o efeito da resolução espacial."
      ]
    },
    {
      "cell_type": "code",
      "metadata": {
        "id": "WlgZ1BmACXxJ",
        "colab_type": "code",
        "colab": {}
      },
      "source": [
        "def spacialreso(img, new_size):\n",
        "  orig = img.shape\n",
        "  red = cv2.resize(img, new_size)\n",
        "  return cv2.resize(red, orig)\n",
        "\n",
        "\n",
        "cv2_imshow(img)\n",
        "\n",
        "cv2_imshow(spacialreso(img, (256, 256)))\n",
        "\n",
        "cv2_imshow(spacialreso(img, (128, 128)))\n",
        "\n",
        "\n",
        "# complete aqui com 64x64, 32x32\n"
      ],
      "execution_count": null,
      "outputs": []
    },
    {
      "cell_type": "markdown",
      "metadata": {
        "id": "rMOWNOTcEHEn",
        "colab_type": "text"
      },
      "source": [
        "# Profundidade da imagem\n",
        "\n",
        "Já o conceito de profundidade, está  relacionado a quantidade de níveis  de tons que podem ser representados por cada pixel. A biblioteca opencv possui algumas funções para manipulação da profundidade, porém utilizaremos uma versão mais simples através de uma transformação linear.\n",
        "\n",
        "\n"
      ]
    },
    {
      "cell_type": "code",
      "metadata": {
        "id": "ZD7hb8LNESGt",
        "colab_type": "code",
        "colab": {}
      },
      "source": [
        "def img_depth(img, N):\n",
        "  import numpy as np\n",
        "  return np.round(img*(N/255))*(255/N)\n",
        "\n",
        "\n",
        "# Usando 8 níveis => 2^8 = 256 tons\n",
        "cv2_imshow(img_depth(img, 8))\n",
        "\n",
        "\n",
        "\n",
        "# Usando 6 níveis => 2^6 = 64 tons\n",
        "cv2_imshow(img_depth(img, 6))\n",
        "\n",
        "\n",
        "# Usando 4 níveis => 2^4 = 16 tons\n",
        "cv2_imshow(img_depth(img, 4))\n",
        "\n",
        "\n",
        "# complete aqui com 3, 2 e 1 níveis!"
      ],
      "execution_count": null,
      "outputs": []
    }
  ]
}